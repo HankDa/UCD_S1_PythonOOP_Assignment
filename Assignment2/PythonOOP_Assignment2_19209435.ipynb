{
 "cells": [
  {
   "cell_type": "markdown",
   "metadata": {},
   "source": [
    "## Myseries class\n",
    "\n",
    "### Constructor : \n",
    "    Basical principle is if there are index input then treat the input data and index as a list and convert it to dictionary. While if input data is dictionary store it to s_dict directly. If there are no index input using consecutive number as index. The input data check process will check the length of data and index is identical.\n",
    "\n",
    "### Function: \n",
    "    min, max ,mean functions check if input data is numertic, if not return error message.\n",
    "   \n",
    "\n",
    "\n"
   ]
  },
  {
   "cell_type": "code",
   "execution_count": null,
   "metadata": {},
   "outputs": [],
   "source": [
    "class MySeries:\n",
    "    def __init__(self,ls_val,index=[]):\n",
    "        \n",
    "        self.index = index\n",
    "        self.s_dict= ls_val\n",
    "        \n",
    "    @property\n",
    "    def s_dict(self):\n",
    "        return self.__s_dict\n",
    "    \n",
    "    @s_dict.setter\n",
    "    def s_dict(self,value):\n",
    "        self.__s_dict = {}\n",
    "        \n",
    "        #Confirm whether there is index input\n",
    "        #convert two list to a dictionary, using index as key \n",
    "        if self.index:\n",
    "            #check length data and index length, they should identical\n",
    "            if len(value) != len(self.index):\n",
    "                print(\"data and index are asymmetry\")\n",
    "            else:\n",
    "                for i in range(len(value)):\n",
    "                    self.__s_dict[self.index[i]]=value[i]\n",
    "        \n",
    "        else:\n",
    "            #if input data is a dictionary store it as s_dict\n",
    "            if isinstance(value,dict):\n",
    "                self.__s_dict = value\n",
    "            #if without index, using consecutive numbers as index\n",
    "            else:\n",
    "                for i in range(len(value)):\n",
    "                    self.__s_dict[i]=value[i]\n",
    "                    \n",
    "    def min(self):\n",
    "        #if input data is not numertic return error message\n",
    "        if type(list(self.s_dict.values())[0]) == int or type(list(self.s_dict.values())[0]) == float:\n",
    "            return min(self.s_dict.values())\n",
    "        else:\n",
    "            return \"type error\"\n",
    "        \n",
    "    def mean(self): \n",
    "        #if input data is not numertic return error message\n",
    "        if type(list(self.s_dict.values())[0]) == int or type(list(self.s_dict.values())[0]) == float:\n",
    "            return sum(self.s_dict.values())/len(self.s_dict.values())\n",
    "        else:\n",
    "            return \"type error\"\n",
    "\n",
    "    def max(self):\n",
    "        #if input data is not numertic return error message\n",
    "        if type(list(self.s_dict.values())[0]) == int or type(list(self.s_dict.values())[0]) == float:\n",
    "            return max(self.s_dict.values())\n",
    "        else:\n",
    "            return \"type error\"\n",
    "            \n",
    "    def item_at_ind(self,ind):\n",
    "        return self.s_dict[ind]\n",
    " \n",
    "    def print(self):\n",
    "        for ind in self.s_dict.keys():\n",
    "             print(\"{}\\t{}\".format(str(ind),self.s_dict[ind]))"
   ]
  },
  {
   "cell_type": "code",
   "execution_count": null,
   "metadata": {},
   "outputs": [],
   "source": [
    "ms3 = MySeries([1,2,1], index = ['a','b','c'])\n",
    "ms3.s_dict"
   ]
  },
  {
   "cell_type": "code",
   "execution_count": null,
   "metadata": {},
   "outputs": [],
   "source": [
    "ms4 = MySeries([4,5,6])\n",
    "ms4.s_dict"
   ]
  },
  {
   "cell_type": "code",
   "execution_count": null,
   "metadata": {},
   "outputs": [],
   "source": [
    "d = {'b': 1, 'a': 0, 'c': 2}\n",
    "s2 = MySeries(d)\n",
    "s2.s_dict"
   ]
  },
  {
   "cell_type": "markdown",
   "metadata": {},
   "source": [
    "## Myseries class\n",
    "\n",
    "### Constructor : \n",
    "    Basical principle is create mySeries object as column, and check if each column has same length.\n",
    "\n",
    "### Function: \n",
    "    1)min, max ,mean: check if it recevied error message, print the result from Myseries function.\n",
    "    2)sort_values: sort specific series bu it's value and rearange the order of index of whole dataframe.\n",
    "    3)index update: update index order, if there occur anything which will effect the dataframe.\n",
    "   "
   ]
  },
  {
   "cell_type": "code",
   "execution_count": null,
   "metadata": {},
   "outputs": [],
   "source": [
    "class MyDataFrame():\n",
    "    def __init__(self,dict_in,index = []):\n",
    "        self.index_df = index\n",
    "        self.column = dict_in\n",
    "        \n",
    "    @property\n",
    "    def column(self):\n",
    "        return self.__column\n",
    "    \n",
    "    @column.setter\n",
    "    def column(self,value):\n",
    "        first_len=0\n",
    "        self.__column = {}\n",
    "        if self.index_df:\n",
    "            for key in value.keys():\n",
    "                if first_len:\n",
    "                    if first_len == len(value[key]):\n",
    "                        self.__column[key] = MySeries(value[key],self.index_df)\n",
    "                    else:\n",
    "                        print(\"data and index are asymmetry\")\n",
    "                        self.__column = {}\n",
    "                        return 0\n",
    "                else: \n",
    "                    first_len = len(value[key])\n",
    "                    self.__column[key] = MySeries(value[key],self.index_df)\n",
    "        else:\n",
    "                \n",
    "            for key in value.keys():\n",
    "                if first_len:\n",
    "                    if first_len == len(value[key]):\n",
    "                        self.__column[key] = MySeries(value[key])\n",
    "                    else:\n",
    "                        print(\"data and index are asymmetry\")\n",
    "                        self.__column = {}\n",
    "                        return 0\n",
    "                else: \n",
    "                    first_len = len(value[key])\n",
    "                    self.__column[key] = MySeries(value[key])\n",
    "                \n",
    "        self.update_index()\n",
    "            \n",
    "    def update_index(self):\n",
    "                \n",
    "        #arbitrary chose a column and store the series's index as list\n",
    "        #this could update the sequence of index\n",
    "        arbitrary_key = list(self.__column)[0]\n",
    "        self.index_df = list(self.__column[arbitrary_key].s_dict)\n",
    "    \n",
    "    def sort_values(self,col_name):\n",
    "        \n",
    "        dic_in = self.column[col_name].s_dict\n",
    "        #sort dictionary by value\n",
    "        sorted_keys = sorted(dic_in, key=dic_in.get)\n",
    "        #update each column with sorted index\n",
    "        for col_name in self.column.keys():\n",
    "            sorted_dic = {}\n",
    "            dic_ser = self.column[col_name].s_dict\n",
    "        \n",
    "            for w in sorted_keys:\n",
    "                sorted_dic[w] = dic_ser[w]\n",
    "            self.column[col_name] = MySeries(list(sorted_dic.values()),list(sorted_dic.keys()))\n",
    "        \n",
    "        self.update_index()\n",
    "\n",
    "    def mean(self):\n",
    "        \n",
    "        for col_name in self.column.keys():\n",
    "            res = self.column[col_name].mean()\n",
    "            if res != \"type error\":\n",
    "                print(\"{}\\t{:.2f}\".format(col_name,self.column[col_name].mean())) #index name\n",
    "    \n",
    "    def max(self):\n",
    "        \n",
    "        for col_name in self.column.keys():\n",
    "            res = self.column[col_name].max()\n",
    "            if res != \"type error\":\n",
    "                print(\"{}\\t{:.2f}\".format(col_name,self.column[col_name].max())) #index name\n",
    "            \n",
    "    def min(self):\n",
    "        \n",
    "        for col_name in self.column.keys():\n",
    "            res = self.column[col_name].min()\n",
    "            if res != \"type error\":\n",
    "                print(\"{}\\t{:.2f}\".format(col_name,self.column[col_name].min())) #index name\n",
    "            \n",
    "    def print(self):\n",
    "            \n",
    "        # print column name\n",
    "        # Aligh data and index\n",
    "        print(\"{:<8}\\t\".format(\"\"),end='') \n",
    "        for key in self.column.keys(): \n",
    "            print(\"{:<10}\\t\".format(key),end='')\n",
    "        #terminate end=\"\"\n",
    "        print('') \n",
    "        \n",
    "        # print data with index\n",
    "        for ind in self.index_df: \n",
    "            print(\"{:<8}\\t\".format(ind),end='') #index name\n",
    "            for col_name in self.column.keys():\n",
    "                data = self.column[col_name].s_dict[ind]\n",
    "                print(\"{:<10}\\t\".format(data),end='')\n",
    "            #terminate end=\"\"\n",
    "            print('') \n",
    "        #newline    \n",
    "        print('\\n') "
   ]
  },
  {
   "cell_type": "code",
   "execution_count": null,
   "metadata": {},
   "outputs": [],
   "source": [
    "ms3 = MySeries([1,2,1], index = ['a','b','c'])\n",
    "ms3.print()"
   ]
  },
  {
   "cell_type": "code",
   "execution_count": null,
   "metadata": {},
   "outputs": [],
   "source": [
    "ms3.item_at_ind('c')"
   ]
  },
  {
   "cell_type": "code",
   "execution_count": null,
   "metadata": {},
   "outputs": [],
   "source": [
    "d = {'Sun Hours': [4.5,4.0,5.1,5],\n",
    "     'Max Temp': [19.6,19.1,19.6,20.0],\n",
    "     'Min Temp': [12.7,12.5,13.3,12.1],\n",
    "     'Rain (mm)': [82,109,65,76],\n",
    "     'Rain Days': [13,20,10,9.7]}\n",
    "df1 = MyDataFrame(d)\n",
    "df2 = MyDataFrame(d, index = ['Clare', 'Galway','Dublin', 'Wexford'])\n",
    "df2.print()"
   ]
  },
  {
   "cell_type": "code",
   "execution_count": null,
   "metadata": {},
   "outputs": [],
   "source": [
    "df2.sort_values('Rain (mm)')\n",
    "df2.print()"
   ]
  },
  {
   "cell_type": "code",
   "execution_count": null,
   "metadata": {},
   "outputs": [],
   "source": [
    "df2.mean()"
   ]
  },
  {
   "cell_type": "code",
   "execution_count": null,
   "metadata": {},
   "outputs": [],
   "source": [
    "df2.max()"
   ]
  },
  {
   "cell_type": "code",
   "execution_count": null,
   "metadata": {},
   "outputs": [],
   "source": [
    "df2.min()"
   ]
  },
  {
   "cell_type": "code",
   "execution_count": null,
   "metadata": {},
   "outputs": [],
   "source": [
    "films = {'Rank': [112,62,41,172,230,176],\n",
    "        'Release Year': [1973,1980,1960,2015,1976,1996],\n",
    "        'IMDB Rating': [8.3,8.4,8.5,8.1,8.1,8.1],\n",
    "        'Time (minutes)': [129,146,109,118,120,98],\n",
    "        'Main Genre': ['Comedy','Horror','Horror','Drama','Drama','Drama']}\n",
    "f_names = ['Sting','Shining', 'Psycho','Room','Rocky','Fargo']\n",
    "\n",
    "films_df =  MyDataFrame(films, index = f_names) \n",
    "films_df.print()"
   ]
  },
  {
   "cell_type": "code",
   "execution_count": null,
   "metadata": {},
   "outputs": [],
   "source": [
    "films_df.mean()"
   ]
  },
  {
   "cell_type": "code",
   "execution_count": null,
   "metadata": {},
   "outputs": [],
   "source": [
    "films_df.sort_values('Release Year')\n",
    "films_df.print()"
   ]
  },
  {
   "cell_type": "code",
   "execution_count": null,
   "metadata": {},
   "outputs": [],
   "source": []
  },
  {
   "cell_type": "code",
   "execution_count": null,
   "metadata": {},
   "outputs": [],
   "source": []
  }
 ],
 "metadata": {
  "kernelspec": {
   "display_name": "Python 3",
   "language": "python",
   "name": "python3"
  },
  "language_info": {
   "codemirror_mode": {
    "name": "ipython",
    "version": 3
   },
   "file_extension": ".py",
   "mimetype": "text/x-python",
   "name": "python",
   "nbconvert_exporter": "python",
   "pygments_lexer": "ipython3",
   "version": "3.7.9"
  }
 },
 "nbformat": 4,
 "nbformat_minor": 4
}
