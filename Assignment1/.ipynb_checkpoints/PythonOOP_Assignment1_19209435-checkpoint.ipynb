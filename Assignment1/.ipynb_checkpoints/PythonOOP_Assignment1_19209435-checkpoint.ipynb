{
 "cells": [
  {
   "cell_type": "markdown",
   "metadata": {},
   "source": [
    "## Test dataset"
   ]
  },
  {
   "cell_type": "markdown",
   "metadata": {},
   "source": [
    "### Test set: sample 1"
   ]
  },
  {
   "cell_type": "code",
   "execution_count": null,
   "metadata": {},
   "outputs": [],
   "source": [
    "#Sample1\n",
    "ls_members_samp1 = ['Annie','Sally','Bill']\n",
    "event_samp1 = 'concert'\n",
    "\n",
    "\n",
    "ls_amount_samp1=[180,75,19,16]\n",
    "ls_name_samp1  =['Annie','Sally','Bill','Bill']\n",
    "\n",
    "manual= False # if False it will use ls_amount and ls_name to add payment"
   ]
  },
  {
   "cell_type": "code",
   "execution_count": null,
   "metadata": {},
   "outputs": [],
   "source": [
    "ls_members = ls_members_samp1\n",
    "event_new = event(event_samp1)\n",
    "ls_amount_pay = ls_amount_samp1\n",
    "ls_name_pay = ls_name_samp1\n",
    "\n",
    "#executing main function\n",
    "main(ls_members,event_new,ls_amount_pay,ls_name_pay)"
   ]
  },
  {
   "cell_type": "markdown",
   "metadata": {},
   "source": [
    "### Test set: sample 2"
   ]
  },
  {
   "cell_type": "code",
   "execution_count": null,
   "metadata": {},
   "outputs": [],
   "source": [
    "#Sample2\n",
    "ls_members_samp2 = ['Cathy','Robin','Jen']\n",
    "event_samp2 = 'cinema'\n",
    "\n",
    "\n",
    "ls_amount_samp2=[33,60,21,27]\n",
    "ls_name_samp2  =['Cathy','Robin','Jen','Jen']\n",
    "\n",
    "manual= False # if False it will use ls_amount and ls_name to add payment"
   ]
  },
  {
   "cell_type": "code",
   "execution_count": null,
   "metadata": {},
   "outputs": [],
   "source": [
    "ls_members = ls_members_samp2\n",
    "event_new = event(event_samp2)\n",
    "ls_amount_pay = ls_amount_samp2\n",
    "ls_name_pay = ls_name_samp2\n",
    "\n",
    "#executing main function\n",
    "main(ls_members,event_new,ls_amount_pay,ls_name_pay)"
   ]
  },
  {
   "cell_type": "markdown",
   "metadata": {},
   "source": [
    "### Test set: sample 3"
   ]
  },
  {
   "cell_type": "code",
   "execution_count": null,
   "metadata": {},
   "outputs": [],
   "source": [
    "#Sample3\n",
    "ls_members_samp3 = ['Nora','Eva','Frankie','Harry']\n",
    "event_samp3 = 'weekend'\n",
    "\n",
    "\n",
    "ls_amount_samp3=[110,60,125,70]\n",
    "ls_name_samp3  =['Nora','Eva','Frankie','Harry']\n",
    "\n",
    "manual= False # if False it will use ls_amount and ls_name to add payment"
   ]
  },
  {
   "cell_type": "code",
   "execution_count": null,
   "metadata": {},
   "outputs": [],
   "source": [
    "ls_members = ls_members_samp3\n",
    "event_new = event(event_samp3)\n",
    "ls_amount_pay = ls_amount_samp3\n",
    "ls_name_pay = ls_name_samp3\n",
    "\n",
    "#executing main function\n",
    "main(ls_members,event_new,ls_amount_pay,ls_name_pay)"
   ]
  },
  {
   "cell_type": "markdown",
   "metadata": {},
   "source": [
    "### Test set: sample x"
   ]
  },
  {
   "cell_type": "markdown",
   "metadata": {},
   "source": [
    "## Input API : add new test set"
   ]
  },
  {
   "cell_type": "code",
   "execution_count": null,
   "metadata": {},
   "outputs": [],
   "source": [
    "#Sample x\n",
    "ls_members_sampx = ['member1','member2','member3','member4']\n",
    "event_sampx = 'event_name'\n",
    "\n",
    "\n",
    "ls_amount_sampx=[payment1,payment2,payment3,payment4]\n",
    "ls_name_sampx  =['Payee1','Payee2','Payee3','Payee4']\n",
    "\n",
    "manual= False # if False it will use ls_amount and ls_name to add payment"
   ]
  },
  {
   "cell_type": "code",
   "execution_count": null,
   "metadata": {},
   "outputs": [],
   "source": [
    "ls_members = ls_members_sampx\n",
    "event_new = event(event_sampx)\n",
    "ls_amount_pay = ls_amount_sampx\n",
    "ls_name_pay = ls_name_sampx\n",
    "\n",
    "#executing main function\n",
    "main(ls_members,event_new,ls_amount_pay,ls_name_pay)"
   ]
  },
  {
   "cell_type": "markdown",
   "metadata": {},
   "source": [
    "## Create member and event class"
   ]
  },
  {
   "cell_type": "code",
   "execution_count": null,
   "metadata": {},
   "outputs": [],
   "source": [
    "class member:\n",
    "    def __init__(self,name,event):\n",
    "        self.name = name\n",
    "        self.pay = 0\n",
    "        self.balance = 0\n",
    "        self.event = event\n",
    "    \n",
    "    def add_pay(self,pay):\n",
    "        \n",
    "        if type(pay)== int or type(pay)==float:\n",
    "            self.pay += pay\n",
    "        else:\n",
    "            print('add_pay:%s invalid input date'%self.name)\n",
    "        \n",
    "    def cal_balance(self):\n",
    "        \n",
    "        self.balance = round((self.pay - self.event.paymentPerM),2)\n",
    "        return self.balance\n",
    "        \n",
    "class event:\n",
    "    def __init__(self,eventName):\n",
    "        self.name = eventName\n",
    "        self.total_cost = 0\n",
    "        self.paymentPerM = 0\n",
    "    \n",
    "    #register the members paticipate in the event.\n",
    "    def register_member(self,dir_memberObj):\n",
    "        self.members = dir_memberObj\n",
    "        self.numofMem = len(self.members.keys())\n",
    "        \n",
    "    #calculate the totoal cost by sum up each individul's payment   \n",
    "    def totalCost(self):\n",
    "        for member in self.members.keys():\n",
    "            self.total_cost += self.members[member].pay\n",
    "        \n",
    "        self.paymentPerM = round(self.total_cost/self.numofMem,2)\n",
    "        \n",
    "        return self.total_cost"
   ]
  },
  {
   "cell_type": "markdown",
   "metadata": {},
   "source": [
    "## Define main funciton to handle all the process"
   ]
  },
  {
   "cell_type": "code",
   "execution_count": null,
   "metadata": {},
   "outputs": [],
   "source": [
    "def main(ls_members,event_1,ls_amount_pay,ls_name_pay):\n",
    "\n",
    "    # using dictionary to create multiple object\n",
    "    dir_membersObj = {k: member(k,event_1) for k in ls_members}\n",
    "\n",
    "    # register_member \n",
    "    event_1.register_member(dir_membersObj)\n",
    "\n",
    "    #add payment per person\n",
    "    if manual:\n",
    "        dir_membersObj['Annie'].add_pay(180)\n",
    "        dir_membersObj['Sally'].add_pay(75)\n",
    "        dir_membersObj['Bill'].add_pay(19)\n",
    "        dir_membersObj['Bill'].add_pay(16)\n",
    "    else:\n",
    "        for i in range(len(ls_name_pay)):\n",
    "            #check if the new payment comes from registed members\n",
    "            if ls_name_pay[i] in dir_membersObj:\n",
    "                dir_membersObj[ls_name_pay[i]].add_pay(ls_amount_pay[i])\n",
    "\n",
    "    #calculate total cost and payment per member\n",
    "    print('Event:',event_1.name)\n",
    "    print(\"Total: €%s, that is €%s each. \\n\" % (event_1.totalCost(),event_1.paymentPerM))\n",
    "\n",
    "    #calculate balance \n",
    "    for key in dir_membersObj.keys():\n",
    "        print(key +\" has balance €:\" + str(dir_membersObj[key].cal_balance()))\n",
    "    print(\"\\n\")\n",
    "    \n",
    "    #executing reconciliation process\n",
    "    reconciliation(dir_membersObj)\n",
    "    print(\"\\n\")\n",
    "    \n",
    "    #print final balance results\n",
    "    print(\"Result:\")\n",
    "    for key in dir_membersObj.keys():\n",
    "        print(key +\" has balance €:\" + str(dir_membersObj[key].cal_balance()))\n",
    "    print(\"\\n\")"
   ]
  },
  {
   "cell_type": "markdown",
   "metadata": {},
   "source": [
    "## Define reconciliation funciton to handle reconciliation process"
   ]
  },
  {
   "cell_type": "code",
   "execution_count": null,
   "metadata": {},
   "outputs": [],
   "source": [
    "def reconciliation(dir_membersobj):\n",
    "    dic_name_bal = {}\n",
    "    \n",
    "    #create a dictionary to store object name and balance\n",
    "    for name in dir_membersobj:\n",
    "        if dir_membersobj[name].balance != 0:\n",
    "            dic_name_bal[name] = dir_membersobj[name].balance\n",
    "            \n",
    "\n",
    "    #Keep executing until everyone's balance smaller than 0.1(tolerance) \n",
    "    while float(dic_name_bal[max(dic_name_bal, key=dic_name_bal.get)]) >0.1: \n",
    "        \n",
    "        #Find the person with the most and least amount of balance\n",
    "        Keymax = max(dic_name_bal, key=dic_name_bal.get)\n",
    "        keymin = min(dic_name_bal, key=dic_name_bal.get)\n",
    "        \n",
    "        #min pay max the whole amount of money that it shold pay\n",
    "        if float(dic_name_bal[Keymax])>abs(float(dic_name_bal[keymin])):\n",
    "            \n",
    "            payment = round(abs(float(dic_name_bal[keymin])),2)\n",
    "            dir_membersobj[Keymax].add_pay(-1*payment)\n",
    "            dir_membersobj[keymin].add_pay(payment)\n",
    "            print(\"%s has to pay %s €%.2f\" %(keymin,Keymax,payment))\n",
    "        \n",
    "        #min pay max the amount of money that max needs\n",
    "        else:\n",
    "            payment = round(float(dic_name_bal[Keymax]),2)\n",
    "            dir_membersobj[Keymax].add_pay(-1*payment)\n",
    "            dir_membersobj[keymin].add_pay(payment)\n",
    "            print(\"%s has to pay %s €%.2f\" %(keymin,Keymax,payment))\n",
    "        \n",
    "        #update balance\n",
    "        dic_name_bal[Keymax] = dir_membersobj[Keymax].cal_balance()\n",
    "        dic_name_bal[keymin] = dir_membersobj[keymin].cal_balance()\n",
    "        \n",
    "    print('Finished reconciliation, we are still friends!')\n",
    "    "
   ]
  }
 ],
 "metadata": {
  "kernelspec": {
   "display_name": "Python 3",
   "language": "python",
   "name": "python3"
  },
  "language_info": {
   "codemirror_mode": {
    "name": "ipython",
    "version": 3
   },
   "file_extension": ".py",
   "mimetype": "text/x-python",
   "name": "python",
   "nbconvert_exporter": "python",
   "pygments_lexer": "ipython3",
   "version": "3.7.9"
  }
 },
 "nbformat": 4,
 "nbformat_minor": 4
}
